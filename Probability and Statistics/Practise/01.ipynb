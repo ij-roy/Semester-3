{
 "cells": [
  {
   "cell_type": "code",
   "execution_count": 1,
   "metadata": {},
   "outputs": [],
   "source": [
    "import numpy as np # for Mathematical use\n",
    "import pandas as pd # for working on dataframes\n",
    "import matplotlib.pyplot as plt # for Graph plotting and visualisations\n",
    "import seaborn as sns # same as matplotlib"
   ]
  },
  {
   "cell_type": "code",
   "execution_count": 2,
   "metadata": {},
   "outputs": [
    {
     "data": {
      "image/png": "[encoded data removed]",
      "text/plain": [
       "<Figure size 640x480 with 1 Axes>"
      ]
     },
     "metadata": {},
     "output_type": "display_data"
    }
   ],
   "source": [
    "x = [1,2,3]\n",
    "y = [4,5,8]\n",
    "plt.plot(x,y)\n",
    "plt.title(\"First Graph\",fontsize=20)\n",
    "plt.xlabel(\"X Axis\")\n",
    "plt.ylabel(\"Y Axis\")\n",
    "plt.show()"
   ]
  },
  {
   "cell_type": "code",
   "execution_count": null,
   "metadata": {},
   "outputs": [],
   "source": []
  },
  {
   "cell_type": "markdown",
   "metadata": {},
   "source": [
    "# All Tests"
   ]
  },
  {
   "cell_type": "code",
   "execution_count": 3,
   "metadata": {},
   "outputs": [
    {
     "name": "stdout",
     "output_type": "stream",
     "text": [
      "Z-Statistic: 3.038, P-Value: 0.002\n"
     ]
    }
   ],
   "source": [
    "# a. Population Variance is Known (Z-Test)\n",
    "import numpy as np\n",
    "from statsmodels.stats.weightstats import ztest\n",
    "\n",
    "# Exam Scores data\n",
    "data = [85, 90, 78, 92, 88, 95, 80, 91, 87, 94, 82, 96, 89, 85, 93, 81, 88, 84, 92, 79, 85, 94, 90, 81, 86, 91, 89, 92, 84, 96]\n",
    "population_mean = 85\n",
    "\n",
    "# Perform Z-Test\n",
    "z_stat, p_value = ztest(data, value=population_mean)\n",
    "print(f\"Z-Statistic: {z_stat:.3f}, P-Value: {p_value:.3f}\")\n"
   ]
  },
  {
   "cell_type": "code",
   "execution_count": 4,
   "metadata": {},
   "outputs": [
    {
     "name": "stdout",
     "output_type": "stream",
     "text": [
      "One-Sample t-Test: T-Statistic = 0.000, P-Value = 1.000\n"
     ]
    }
   ],
   "source": [
    "# b. Population Variance is Unknown and n<30 (One-Sample t-Test)\n",
    "from scipy.stats import ttest_1samp\n",
    "\n",
    "# Example data\n",
    "data = [150, 160, 165, 155, 145]\n",
    "population_mean = 155\n",
    "\n",
    "# Perform one-sample t-test\n",
    "t_stat, p_value = ttest_1samp(data, population_mean)\n",
    "print(f\"One-Sample t-Test: T-Statistic = {t_stat:.3f}, P-Value = {p_value:.3f}\")\n"
   ]
  },
  {
   "cell_type": "code",
   "execution_count": 5,
   "metadata": {},
   "outputs": [
    {
     "name": "stdout",
     "output_type": "stream",
     "text": [
      "Z-Test for Two Independent Means: Z-Statistic = 2.229, P-Value = 0.026\n"
     ]
    }
   ],
   "source": [
    "# a. Population Variance is Known (Z-Test for Two Independent Samples)\n",
    "from statsmodels.stats.weightstats import ztest\n",
    "\n",
    "# Example data\n",
    "group1 = [150, 160, 165, 155, 145]\n",
    "group2 = [140, 155, 150, 135, 130]\n",
    "\n",
    "# Perform Z-test for two independent samples\n",
    "z_stat, p_value = ztest(group1, group2)\n",
    "print(f\"Z-Test for Two Independent Means: Z-Statistic = {z_stat:.3f}, P-Value = {p_value:.3f}\")\n"
   ]
  },
  {
   "cell_type": "code",
   "execution_count": 6,
   "metadata": {},
   "outputs": [
    {
     "name": "stdout",
     "output_type": "stream",
     "text": [
      "Independent t-Test for Two Means: T-Statistic = 2.229, P-Value = 0.056\n"
     ]
    }
   ],
   "source": [
    "# b. Population Variance is Unknown and n<30 (Independent t-Test)\n",
    "from scipy.stats import ttest_ind\n",
    "\n",
    "# Example data\n",
    "group1 = [150, 160, 165, 155, 145]\n",
    "group2 = [140, 155, 150, 135, 130]\n",
    "\n",
    "# Perform independent t-test\n",
    "t_stat, p_value = ttest_ind(group1, group2)\n",
    "print(f\"Independent t-Test for Two Means: T-Statistic = {t_stat:.3f}, P-Value = {p_value:.3f}\")\n"
   ]
  },
  {
   "cell_type": "code",
   "execution_count": 7,
   "metadata": {},
   "outputs": [
    {
     "name": "stdout",
     "output_type": "stream",
     "text": [
      "Paired t-Test: T-Statistic = 9.000, P-Value = 0.001\n"
     ]
    }
   ],
   "source": [
    "# b. Paired t-Test (for dependent samples)\n",
    "from scipy.stats import ttest_rel\n",
    "\n",
    "# Example data (before and after)\n",
    "before = [150, 160, 165, 155, 145]\n",
    "after = [140, 150, 160, 145, 135]\n",
    "\n",
    "# Perform paired t-test\n",
    "t_stat, p_value = ttest_rel(before, after)\n",
    "print(f\"Paired t-Test: T-Statistic = {t_stat:.3f}, P-Value = {p_value:.3f}\")\n"
   ]
  },
  {
   "cell_type": "code",
   "execution_count": 8,
   "metadata": {},
   "outputs": [
    {
     "name": "stdout",
     "output_type": "stream",
     "text": [
      "One-Way ANOVA: F-Statistic = 3.634, P-Value = 0.058\n"
     ]
    }
   ],
   "source": [
    "# 3. Several Means (ANOVA)\n",
    "from scipy.stats import f_oneway\n",
    "\n",
    "# Example data (three groups)\n",
    "group1 = [150, 160, 165, 155, 145]\n",
    "group2 = [140, 155, 150, 135, 130]\n",
    "group3 = [155, 165, 160, 150, 145]\n",
    "\n",
    "# Perform One-Way ANOVA\n",
    "f_stat, p_value = f_oneway(group1, group2, group3)\n",
    "print(f\"One-Way ANOVA: F-Statistic = {f_stat:.3f}, P-Value = {p_value:.3f}\")\n"
   ]
  },
  {
   "cell_type": "code",
   "execution_count": 9,
   "metadata": {},
   "outputs": [
    {
     "name": "stdout",
     "output_type": "stream",
     "text": [
      "Z-Test for Single Proportion: Z-Statistic = -1.005, P-Value = 0.315\n"
     ]
    }
   ],
   "source": [
    "# 4. Single Proportion\n",
    "from statsmodels.stats.proportion import proportions_ztest\n",
    "\n",
    "# Example data\n",
    "successes = 45\n",
    "trials = 100\n",
    "population_proportion = 0.5\n",
    "\n",
    "# Perform Z-test for single proportion\n",
    "z_stat, p_value = proportions_ztest(successes, trials, population_proportion)\n",
    "print(f\"Z-Test for Single Proportion: Z-Statistic = {z_stat:.3f}, P-Value = {p_value:.3f}\")\n"
   ]
  },
  {
   "cell_type": "code",
   "execution_count": 10,
   "metadata": {},
   "outputs": [
    {
     "name": "stdout",
     "output_type": "stream",
     "text": [
      "Z-Test for Two Proportions: Z-Statistic = 0.715, P-Value = 0.474\n"
     ]
    }
   ],
   "source": [
    "# 5. Two Proportions\n",
    "from statsmodels.stats.proportion import proportions_ztest\n",
    "\n",
    "# Example data\n",
    "successes1 = 45\n",
    "trials1 = 100\n",
    "successes2 = 40\n",
    "trials2 = 100\n",
    "\n",
    "# Perform Z-test for two proportions\n",
    "z_stat, p_value = proportions_ztest([successes1, successes2], [trials1, trials2])\n",
    "print(f\"Z-Test for Two Proportions: Z-Statistic = {z_stat:.3f}, P-Value = {p_value:.3f}\")\n"
   ]
  },
  {
   "cell_type": "code",
   "execution_count": 11,
   "metadata": {},
   "outputs": [
    {
     "name": "stdout",
     "output_type": "stream",
     "text": [
      "Chi-Square Test for Several Proportions: Chi2 = 4.000, P-Value = 0.135\n"
     ]
    }
   ],
   "source": [
    "# 6. Several Proportions\n",
    "from scipy.stats import chi2_contingency\n",
    "\n",
    "# Example data (contingency table)\n",
    "data = [[30, 20, 10], [20, 30, 10]]\n",
    "\n",
    "# Perform Chi-Square Test for Independence\n",
    "chi2, p_value, dof, expected = chi2_contingency(data)\n",
    "print(f\"Chi-Square Test for Several Proportions: Chi2 = {chi2:.3f}, P-Value = {p_value:.3f}\")\n"
   ]
  },
  {
   "cell_type": "code",
   "execution_count": 12,
   "metadata": {},
   "outputs": [
    {
     "name": "stdout",
     "output_type": "stream",
     "text": [
      "Chi-Square Test for Single Variance: Chi2 = 13.333, P-Value = 0.010\n"
     ]
    }
   ],
   "source": [
    "# 7. Single Variance\n",
    "from scipy.stats import chi2\n",
    "\n",
    "# Example data\n",
    "data = [150, 160, 165, 155, 145]\n",
    "variance = np.var(data)\n",
    "\n",
    "# Hypothesized population variance\n",
    "hypothesized_variance = 15\n",
    "\n",
    "# Perform Chi-Square Test for Variance\n",
    "chi2_stat = (len(data) - 1) * variance / hypothesized_variance\n",
    "p_value = 1 - chi2.cdf(chi2_stat, df=len(data) - 1)\n",
    "print(f\"Chi-Square Test for Single Variance: Chi2 = {chi2_stat:.3f}, P-Value = {p_value:.3f}\")"
   ]
  },
  {
   "cell_type": "code",
   "execution_count": 15,
   "metadata": {},
   "outputs": [
    {
     "name": "stdout",
     "output_type": "stream",
     "text": [
      "F-Test for Two Variances: F-Statistic = 0.581, P-Value = 0.694\n"
     ]
    }
   ],
   "source": [
    "# 8. Two Variances (F-Test)\n",
    "from scipy.stats import f\n",
    "\n",
    "# Example data\n",
    "group1 = [150, 160, 165, 155, 145]\n",
    "group2 = [140, 155, 150, 135, 130]\n",
    "\n",
    "# Calculate variances\n",
    "var1 = np.var(group1, ddof=1)\n",
    "var2 = np.var(group2, ddof=1)\n",
    "\n",
    "# Perform F-Test\n",
    "dfn = len(group1) - 1  # degrees of freedom of the first sample\n",
    "dfd = len(group2) - 1  # degrees of freedom of the second sample\n",
    "f_stat = var1 / var2\n",
    "p_value = 1 - f.cdf(f_stat, dfn, dfd)  # Use the correct degrees of freedom\n",
    "\n",
    "print(f\"F-Test for Two Variances: F-Statistic = {f_stat:.3f}, P-Value = {p_value:.3f}\")"
   ]
  },
  {
   "cell_type": "code",
   "execution_count": null,
   "metadata": {},
   "outputs": [
    {
     "name": "stdout",
     "output_type": "stream",
     "text": [
      "Chi-Square Goodness-of-Fit Test: Chi2 = 12.500, P-Value = 0.014\n"
     ]
    }
   ],
   "source": [
    "# 9. Data Fitness to a Probability Distribution (Chi-Square Goodness-of-Fit Test)\n",
    "from scipy.stats import chisquare\n",
    "\n",
    "# Example observed frequencies (should match the sum of expected frequencies)\n",
    "observed = [25, 15, 30, 20, 10]\n",
    "\n",
    "# Hypothesized expected frequencies (must sum to the same total as observed)\n",
    "# Adjust this so that the sum of expected matches the sum of observed\n",
    "expected = [20, 20, 20, 20, 20]\n",
    "\n",
    "# Ensure the sum of observed and expected frequencies are equal\n",
    "if sum(observed) != sum(expected):\n",
    "    print(\"Error: Sum of observed and expected frequencies do not match!\")\n",
    "else:\n",
    "    # Perform Chi-Square Goodness-of-Fit Test\n",
    "    chi2_stat, p_value = chisquare(observed, expected)\n",
    "    print(f\"Chi-Square Goodness-of-Fit Test: Chi2 = {chi2_stat:.3f}, P-Value = {p_value:.3f}\")\n"
   ]
  }
 ],
 "metadata": {
  "kernelspec": {
   "display_name": "Python 3",
   "language": "python",
   "name": "python3"
  },
  "language_info": {
   "codemirror_mode": {
    "name": "ipython",
    "version": 3
   },
   "file_extension": ".py",
   "mimetype": "text/x-python",
   "name": "python",
   "nbconvert_exporter": "python",
   "pygments_lexer": "ipython3",
   "version": "3.12.4"
  }
 },
 "nbformat": 4,
 "nbformat_minor": 2
}
