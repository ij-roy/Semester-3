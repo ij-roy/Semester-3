{
 "cells": [
  {
   "cell_type": "code",
   "execution_count": 1,
   "metadata": {},
   "outputs": [],
   "source": [
    "import numpy as np # for Mathematical use\n",
    "import pandas as pd # for working on dataframes\n",
    "import matplotlib.pyplot as plt # for Graph plotting and visualisations\n",
    "import seaborn as sns # same as matplotlib\n",
    "from scipy.stats import ttest_1samp\n",
    "import statsmodels.api as sm\n",
    "from statsmodels.formula.api import ols\n",
    "from scipy import stats"
   ]
  },
  {
   "cell_type": "code",
   "execution_count": null,
   "metadata": {},
   "outputs": [],
   "source": [
    "df = pd.read_excel('Project Data.xlsx',sheet_name='Table 1')\n",
    "df.head()"
   ]
  },
  {
   "cell_type": "code",
   "execution_count": 3,
   "metadata": {},
   "outputs": [],
   "source": [
    "# Set the index as the 'Years/Months' column for better plotting\n",
    "df.set_index('Years/Months', inplace=True)\n"
   ]
  },
  {
   "cell_type": "code",
   "execution_count": null,
   "metadata": {},
   "outputs": [],
   "source": [
    "# Select only the first 6 years of the dataset\n",
    "df_years = df.head(6)\n",
    "\n",
    "# Plotting the bar graph for the first 5 years without confidence intervals\n",
    "plt.figure(figsize=(12, 6))\n",
    "sns.barplot(data=df_years.transpose(), errorbar=None)  # Use errorbar=None \n",
    "plt.title('Total Landings Year Wise')\n",
    "plt.ylabel('Total Yields in Metric Tonnes')\n",
    "plt.xlabel('Years')\n",
    "plt.xticks(rotation=45)\n",
    "plt.legend(title='Years', labels=df_years.index, bbox_to_anchor=(1.05, 1), loc='upper left')\n",
    "\n",
    "# Show the plot\n",
    "plt.tight_layout()\n",
    "plt.show()"
   ]
  },
  {
   "cell_type": "markdown",
   "metadata": {},
   "source": [
    "# T test"
   ]
  },
  {
   "cell_type": "code",
   "execution_count": null,
   "metadata": {},
   "outputs": [],
   "source": [
    "df['Total Landings'] = df.sum(axis=1)\n",
    "\n",
    "df_years = df.iloc[:6].copy()\n",
    "df_years['Year'] = df_years.index\n",
    "\n",
    "# Perform one-sample t-test\n",
    "hypothetical_mean = 209285\n",
    "t_stat, p_value = ttest_1samp(df_years['Total Landings'], hypothetical_mean)\n",
    "\n",
    "# Display t-test results\n",
    "print(f\"T-Statistic: {t_stat:.3f}, P-Value: {p_value:.3f}\")\n",
    "if p_value < 0.05:\n",
    "    print(\"Reject the null hypothesis: The total landings differ significantly.\")\n",
    "else:\n",
    "    print(\"Fail to reject the null hypothesis: No significant difference.\")\n",
    "\n",
    "# Plot bar chart with benchmark\n",
    "plt.figure(figsize=(12, 6))\n",
    "# sns.barplot(x=df_years.index, y=df_years['Total Landings'], errorbar=None)\n",
    "sns.barplot(x='Year', y='Total Landings', data=df_years, errorbar=None)\n",
    "plt.axhline(hypothetical_mean, color='red', linestyle='--', label=f\"Hypothetical Mean = {hypothetical_mean}\")\n",
    "plt.title('Total Landings Per Year with T-Test Benchmark')\n",
    "plt.ylabel('Total Landings in Metric Tonnes')\n",
    "plt.xlabel('Years')\n",
    "plt.xticks(rotation=45)\n",
    "plt.legend()\n",
    "plt.tight_layout()\n",
    "plt.show()"
   ]
  },
  {
   "cell_type": "code",
   "execution_count": null,
   "metadata": {},
   "outputs": [],
   "source": [
    "df = pd.read_excel('Project Data.xlsx',sheet_name='Table 2')\n",
    "# Set the index as the 'Years/Months' column for better plotting\n",
    "df.set_index('Years', inplace=True)\n",
    "df.head(6)"
   ]
  },
  {
   "cell_type": "markdown",
   "metadata": {},
   "source": [
    "# Chi-Square Test"
   ]
  },
  {
   "cell_type": "code",
   "execution_count": null,
   "metadata": {},
   "outputs": [],
   "source": [
    "from scipy.stats import chi2_contingency\n",
    "\n",
    "# Prepare the data for Chi-Square test (contingency table)\n",
    "observed = df.T  # Transpose the data to get variables as columns\n",
    "\n",
    "# Perform the Chi-Square test\n",
    "chi2_stat, p_val, dof, expected = chi2_contingency(observed)\n",
    "\n",
    "# Display the results\n",
    "print(f\"Chi-Square Statistic: {chi2_stat:.2f}\")\n",
    "print(f\"P-Value: {p_val:.2f}\")\n",
    "print(f\"Degrees of Freedom: {dof}\")\n",
    "print(\"Expected Frequency Table:\")\n",
    "print(np.round(expected, 2))\n",
    "\n",
    "# Graph: Bar chart for visual representation of the data\n",
    "df.plot(kind='bar', figsize=(10, 6))\n",
    "plt.title(\"Trawlnet and Gillnet Counts Over the Years\")\n",
    "plt.xlabel(\"Years\")\n",
    "plt.ylabel(\"Counts\")\n",
    "plt.xticks(rotation=45)\n",
    "plt.tight_layout()\n",
    "plt.show()"
   ]
  },
  {
   "cell_type": "markdown",
   "metadata": {},
   "source": [
    "# ANOVA"
   ]
  },
  {
   "cell_type": "code",
   "execution_count": null,
   "metadata": {},
   "outputs": [],
   "source": [
    "import numpy as np\n",
    "import pandas as pd\n",
    "from scipy.stats import f_oneway\n",
    "import matplotlib.pyplot as plt\n",
    "\n",
    "# Prepare the data for ANOVA test\n",
    "# Assume 'df' has data in a format where rows represent years and columns represent net types (Trawlnet, Gillnet)\n",
    "# Reshape data to separate by years for ANOVA test\n",
    "trawlnet_counts = df['Trawlnet']\n",
    "gillnet_counts = df['Gillnet']\n",
    "\n",
    "# Perform the ANOVA test\n",
    "anova_stat, p_val_anova = f_oneway(trawlnet_counts, gillnet_counts)\n",
    "\n",
    "# Display ANOVA results\n",
    "print(f\"ANOVA Statistic: {anova_stat:.2f}\")\n",
    "print(f\"P-Value for ANOVA: {p_val_anova:.2f}\")\n",
    "\n",
    "# Graph: Box plot for ANOVA visualization\n",
    "plt.figure(figsize=(10, 6))\n",
    "# Updated code for boxplot with the new parameter name\n",
    "plt.boxplot([trawlnet_counts, gillnet_counts], tick_labels=['Trawlnet', 'Gillnet'])\n",
    "plt.title(\"ANOVA Test: Trawlnet vs Gillnet Counts Across Years\")\n",
    "plt.ylabel(\"Counts\")\n",
    "plt.xlabel(\"Net Type\")\n",
    "plt.tight_layout()\n",
    "plt.show()"
   ]
  }
 ],
 "metadata": {
  "kernelspec": {
   "display_name": "Python 3",
   "language": "python",
   "name": "python3"
  },
  "language_info": {
   "codemirror_mode": {
    "name": "ipython",
    "version": 3
   },
   "file_extension": ".py",
   "mimetype": "text/x-python",
   "name": "python",
   "nbconvert_exporter": "python",
   "pygments_lexer": "ipython3",
   "version": "3.12.4"
  }
 },
 "nbformat": 4,
 "nbformat_minor": 2
}
